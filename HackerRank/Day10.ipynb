{
 "cells": [
  {
   "attachments": {},
   "cell_type": "markdown",
   "metadata": {},
   "source": [
    "# DAY 9 BIT MANUPULATION"
   ]
  },
  {
   "attachments": {},
   "cell_type": "markdown",
   "metadata": {},
   "source": [
    "## Rough"
   ]
  },
  {
   "attachments": {},
   "cell_type": "markdown",
   "metadata": {},
   "source": [
    "### Q1 Check Power of 2"
   ]
  },
  {
   "cell_type": "code",
   "execution_count": 1,
   "metadata": {},
   "outputs": [
    {
     "name": "stdout",
     "output_type": "stream",
     "text": [
      "True\n"
     ]
    }
   ],
   "source": [
    "def checkPowerOf2 (n):\n",
    "    if n <= 0:\n",
    "        return False\n",
    "    return n & (n-1) == 0\n",
    "\n",
    "n = 32\n",
    "print(checkPowerOf2(n))"
   ]
  },
  {
   "attachments": {},
   "cell_type": "markdown",
   "metadata": {},
   "source": [
    "### Q2 Count number of 1s"
   ]
  },
  {
   "cell_type": "code",
   "execution_count": 4,
   "metadata": {},
   "outputs": [
    {
     "name": "stdout",
     "output_type": "stream",
     "text": [
      "4\n"
     ]
    }
   ],
   "source": [
    "def count1s(n):\n",
    "    count = 0\n",
    "    while (n):\n",
    "        n = n & (n-1)\n",
    "        count += 1\n",
    "    return count\n",
    "\n",
    "n = 15\n",
    "print(count1s(n))"
   ]
  },
  {
   "attachments": {},
   "cell_type": "markdown",
   "metadata": {},
   "source": [
    "### Q3 Check whether the ith bit is set or not"
   ]
  },
  {
   "cell_type": "code",
   "execution_count": 5,
   "metadata": {},
   "outputs": [
    {
     "name": "stdout",
     "output_type": "stream",
     "text": [
      "True\n"
     ]
    }
   ],
   "source": [
    "def ithSet (n,i):\n",
    "    if (n & (1 << i)):\n",
    "        return True\n",
    "    else:\n",
    "        False\n",
    "\n",
    "n = 20\n",
    "i = 2\n",
    "print(ithSet(n,i))"
   ]
  },
  {
   "attachments": {},
   "cell_type": "markdown",
   "metadata": {},
   "source": [
    "### Q4 divide each element of given array by multiplying 3 numbers without using * operator"
   ]
  },
  {
   "cell_type": "code",
   "execution_count": 7,
   "metadata": {},
   "outputs": [
    {
     "name": "stdout",
     "output_type": "stream",
     "text": [
      "[1.0, 2.0, 3.0, 4.0, 5.0, 6.0]\n"
     ]
    }
   ],
   "source": [
    "def multiply(a, b):\n",
    "    res = 0\n",
    "    while (b > 0):\n",
    "        if (b & 1):\n",
    "            res = res + a\n",
    "        a = a << 1\n",
    "        b = b >> 1\n",
    "    return res\n",
    "\n",
    "arr = [12,24,36,48,60,72]\n",
    "lst = [2,3,2]\n",
    "\n",
    "mres = 1\n",
    "for i in lst:\n",
    "    mres = multiply(i,mres)\n",
    "\n",
    "res = []\n",
    "for i in arr:\n",
    "    a = i/mres\n",
    "    res.append(a)\n",
    "\n",
    "print(res)"
   ]
  },
  {
   "attachments": {},
   "cell_type": "markdown",
   "metadata": {},
   "source": [
    "### Q5 Generate all Binary"
   ]
  },
  {
   "cell_type": "code",
   "execution_count": 14,
   "metadata": {},
   "outputs": [
    {
     "name": "stdout",
     "output_type": "stream",
     "text": [
      "0 0 0\n",
      "0 0 1\n",
      "0 1 0\n",
      "0 1 1\n",
      "1 0 0\n",
      "1 0 1\n",
      "1 1 0\n",
      "1 1 1\n"
     ]
    }
   ],
   "source": [
    "\n",
    "def generateAllBinary(n,arr,i):\n",
    "    if i == n:\n",
    "        print(*arr)\n",
    "        return\n",
    "    arr[i] = 0\n",
    "    generateAllBinary(n,arr,i+1)\n",
    "    arr[i] = 1\n",
    "    generateAllBinary(n,arr,i+1)\n",
    "\n",
    "n = 3\n",
    "arr = [0] * n\n",
    "generateAllBinary(n,arr,0)\n"
   ]
  },
  {
   "attachments": {},
   "cell_type": "markdown",
   "metadata": {},
   "source": [
    "### Q6 Reverse Bits"
   ]
  },
  {
   "cell_type": "code",
   "execution_count": 15,
   "metadata": {},
   "outputs": [
    {
     "name": "stdout",
     "output_type": "stream",
     "text": [
      "nyy samjh aarha\n"
     ]
    }
   ],
   "source": [
    "def reverseBits():\n",
    "    print(\"nyy samjh aarha\")\n",
    "\n",
    "reverseBits()\n",
    "    "
   ]
  },
  {
   "attachments": {},
   "cell_type": "markdown",
   "metadata": {},
   "source": [
    "## VJUDGE QUESTIONS"
   ]
  },
  {
   "attachments": {},
   "cell_type": "markdown",
   "metadata": {},
   "source": [
    "### Q1 A - Check bit"
   ]
  },
  {
   "cell_type": "code",
   "execution_count": 17,
   "metadata": {},
   "outputs": [
    {
     "name": "stdout",
     "output_type": "stream",
     "text": [
      "true\n"
     ]
    }
   ],
   "source": [
    "#Q1 A - Check bit\n",
    "def ithSet (n,i):\n",
    "    if (n & (1 << i)):\n",
    "        return True\n",
    "    else:\n",
    "        False\n",
    "\n",
    "n,i = map(int,input().split())\n",
    "if ithSet(n,i):\n",
    "    print('true')\n",
    "else:\n",
    "    print('false')"
   ]
  },
  {
   "attachments": {},
   "cell_type": "markdown",
   "metadata": {},
   "source": [
    "### Q2 B - Check Power of Two"
   ]
  },
  {
   "cell_type": "code",
   "execution_count": 18,
   "metadata": {},
   "outputs": [
    {
     "name": "stdout",
     "output_type": "stream",
     "text": [
      "False\n"
     ]
    }
   ],
   "source": [
    "#Q2 B - Check Power of Two\n",
    "def checkPowerOf2 (n):\n",
    "    if n <= 0:\n",
    "        return False\n",
    "    return n & (n-1) == 0\n",
    "\n",
    "t = int(input())\n",
    "\n",
    "for _ in range(t):\n",
    "    n = int(input())\n",
    "    print(checkPowerOf2(n))"
   ]
  },
  {
   "attachments": {},
   "cell_type": "markdown",
   "metadata": {},
   "source": [
    "### Q3 C - Finding Missing Number"
   ]
  },
  {
   "cell_type": "code",
   "execution_count": 19,
   "metadata": {},
   "outputs": [
    {
     "name": "stdout",
     "output_type": "stream",
     "text": [
      "4\n"
     ]
    }
   ],
   "source": [
    "#Q3 C - Finding Missing Number\n",
    "\n",
    "def getMissingNo(a, n):\n",
    "    x1 = a[0]\n",
    "    x2 = 1\n",
    " \n",
    "    for i in range(1, n):\n",
    "        x1 = x1 ^ a[i]\n",
    " \n",
    "    for i in range(2, n + 2):\n",
    "        x2 = x2 ^ i\n",
    " \n",
    "    return x1 ^ x2\n",
    "\n",
    "t = int(input())\n",
    "for _ in range(t):\n",
    "    n = int(input())\n",
    "    lst = list(map(int,input().split()))\n",
    "    print(getMissingNo(lst,n))\n"
   ]
  },
  {
   "attachments": {},
   "cell_type": "markdown",
   "metadata": {},
   "source": [
    "### Q4 D - Flip Bits"
   ]
  },
  {
   "cell_type": "code",
   "execution_count": 23,
   "metadata": {},
   "outputs": [
    {
     "name": "stdout",
     "output_type": "stream",
     "text": [
      "4\n",
      "2\n",
      "3\n",
      "6\n"
     ]
    }
   ],
   "source": [
    "#Q4 D - Flip Bits\n",
    "def countSetBits(n):\n",
    "    count = 0\n",
    "    while n:\n",
    "        count += 1\n",
    "        n &= (n-1)\n",
    "    return count\n",
    "\n",
    "def flipBitCount(a,b):\n",
    "    return countSetBits( a ^ b)\n",
    "\n",
    "\n",
    "t = int(input())\n",
    "for _ in range(t):\n",
    "    a,b = map(int,input().split())\n",
    "    print(flipBitCount(a,b))"
   ]
  },
  {
   "attachments": {},
   "cell_type": "markdown",
   "metadata": {},
   "source": [
    "### Q5 E - Reverse Bits"
   ]
  },
  {
   "cell_type": "code",
   "execution_count": 25,
   "metadata": {},
   "outputs": [
    {
     "name": "stdout",
     "output_type": "stream",
     "text": [
      "536870912\n"
     ]
    }
   ],
   "source": [
    "#Q5 E - Reverse Bits\n",
    "def reverseBits(n):\n",
    "    a = 0\n",
    "    for i in range(32):\n",
    "        a <<= 1\n",
    "        if n & 1:\n",
    "            a ^= 1\n",
    "        n >>= 1\n",
    "    return a\n",
    "\n",
    "t = int(input())\n",
    "for _ in range(t):\n",
    "    n = int(input())\n",
    "    print(reverseBits(n))"
   ]
  },
  {
   "attachments": {},
   "cell_type": "markdown",
   "metadata": {},
   "source": [
    "### Q6 F - Swap Bits (Wrong Answer)"
   ]
  },
  {
   "cell_type": "code",
   "execution_count": null,
   "metadata": {},
   "outputs": [],
   "source": [
    "#Q6 F - Swap Bits\n",
    "def swapAdjBits(n):\n",
    "    swapn = ((n & 0b10101010) >> 1) | ((n & 0b01010101) << 1)\n",
    "    return swapn\n",
    "\n",
    "t = int(input())\n",
    "for _ in range(t):\n",
    "    n = int(input())\n",
    "    print(swapAdjBits(n))"
   ]
  }
 ],
 "metadata": {
  "kernelspec": {
   "display_name": "Python 3",
   "language": "python",
   "name": "python3"
  },
  "language_info": {
   "codemirror_mode": {
    "name": "ipython",
    "version": 3
   },
   "file_extension": ".py",
   "mimetype": "text/x-python",
   "name": "python",
   "nbconvert_exporter": "python",
   "pygments_lexer": "ipython3",
   "version": "3.9.6"
  },
  "orig_nbformat": 4
 },
 "nbformat": 4,
 "nbformat_minor": 2
}
