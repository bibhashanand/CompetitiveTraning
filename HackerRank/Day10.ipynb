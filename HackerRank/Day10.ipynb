{
 "cells": [
  {
   "attachments": {},
   "cell_type": "markdown",
   "metadata": {},
   "source": [
    "# DAY 9 BIT MANUPULATION"
   ]
  },
  {
   "attachments": {},
   "cell_type": "markdown",
   "metadata": {},
   "source": [
    "## Rough"
   ]
  },
  {
   "attachments": {},
   "cell_type": "markdown",
   "metadata": {},
   "source": [
    "### Q1 Check Power of 2"
   ]
  },
  {
   "cell_type": "code",
   "execution_count": 1,
   "metadata": {},
   "outputs": [
    {
     "name": "stdout",
     "output_type": "stream",
     "text": [
      "True\n"
     ]
    }
   ],
   "source": [
    "def checkPowerOf2 (n):\n",
    "    if n <= 0:\n",
    "        return False\n",
    "    return n & (n-1) == 0\n",
    "\n",
    "n = 32\n",
    "print(checkPowerOf2(n))"
   ]
  },
  {
   "attachments": {},
   "cell_type": "markdown",
   "metadata": {},
   "source": [
    "### Q2 Count number of 1s"
   ]
  },
  {
   "cell_type": "code",
   "execution_count": 4,
   "metadata": {},
   "outputs": [
    {
     "name": "stdout",
     "output_type": "stream",
     "text": [
      "4\n"
     ]
    }
   ],
   "source": [
    "def count1s(n):\n",
    "    count = 0\n",
    "    while (n):\n",
    "        n = n & (n-1)\n",
    "        count += 1\n",
    "    return count\n",
    "\n",
    "n = 15\n",
    "print(count1s(n))"
   ]
  },
  {
   "attachments": {},
   "cell_type": "markdown",
   "metadata": {},
   "source": [
    "### Q3 Check whether the ith bit is set or not"
   ]
  },
  {
   "cell_type": "code",
   "execution_count": 5,
   "metadata": {},
   "outputs": [
    {
     "name": "stdout",
     "output_type": "stream",
     "text": [
      "True\n"
     ]
    }
   ],
   "source": [
    "def ithSet (n,i):\n",
    "    if (n & (1 << i)):\n",
    "        return True\n",
    "    else:\n",
    "        False\n",
    "\n",
    "n = 20\n",
    "i = 2\n",
    "print(ithSet(n,i))"
   ]
  },
  {
   "attachments": {},
   "cell_type": "markdown",
   "metadata": {},
   "source": [
    "### Q4 divide each element of given array by multiplying 3 numbers without using * operator"
   ]
  },
  {
   "cell_type": "code",
   "execution_count": 7,
   "metadata": {},
   "outputs": [
    {
     "name": "stdout",
     "output_type": "stream",
     "text": [
      "[1.0, 2.0, 3.0, 4.0, 5.0, 6.0]\n"
     ]
    }
   ],
   "source": [
    "def multiply(a, b):\n",
    "    res = 0\n",
    "    while (b > 0):\n",
    "        if (b & 1):\n",
    "            res = res + a\n",
    "        a = a << 1\n",
    "        b = b >> 1\n",
    "    return res\n",
    "\n",
    "arr = [12,24,36,48,60,72]\n",
    "lst = [2,3,2]\n",
    "\n",
    "mres = 1\n",
    "for i in lst:\n",
    "    mres = multiply(i,mres)\n",
    "\n",
    "res = []\n",
    "for i in arr:\n",
    "    a = i/mres\n",
    "    res.append(a)\n",
    "\n",
    "print(res)"
   ]
  },
  {
   "cell_type": "code",
   "execution_count": null,
   "metadata": {},
   "outputs": [],
   "source": []
  }
 ],
 "metadata": {
  "kernelspec": {
   "display_name": "Python 3",
   "language": "python",
   "name": "python3"
  },
  "language_info": {
   "codemirror_mode": {
    "name": "ipython",
    "version": 3
   },
   "file_extension": ".py",
   "mimetype": "text/x-python",
   "name": "python",
   "nbconvert_exporter": "python",
   "pygments_lexer": "ipython3",
   "version": "3.9.6"
  },
  "orig_nbformat": 4
 },
 "nbformat": 4,
 "nbformat_minor": 2
}
