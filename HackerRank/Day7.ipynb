{
 "cells": [
  {
   "attachments": {},
   "cell_type": "markdown",
   "id": "b88c7765",
   "metadata": {},
   "source": [
    "# DAY 7 - LINKED LIST"
   ]
  },
  {
   "attachments": {},
   "cell_type": "markdown",
   "id": "ef59b622",
   "metadata": {},
   "source": [
    "### Q1 The Power Sum"
   ]
  },
  {
   "cell_type": "code",
   "execution_count": null,
   "id": "7751bd94",
   "metadata": {},
   "outputs": [],
   "source": [
    "\"\"\" \n",
    "// This solution is in C++\n",
    "\n",
    "#include <bits/stdc++.h>\n",
    "\n",
    "using namespace std;\n",
    "\n",
    "string ltrim(const string &);\n",
    "string rtrim(const string &);\n",
    "\n",
    "/*\n",
    " * Complete the 'powerSum' function below.\n",
    " *\n",
    " * The function is expected to return an INTEGER.\n",
    " * The function accepts following parameters:\n",
    " *  1. INTEGER X\n",
    " *  2. INTEGER N\n",
    " */\n",
    "unordered_map<int, unordered_map<int, int>> memo;\n",
    "\n",
    "int powerSumHelper(int target, int currentNum, int power) {\n",
    "    if (target == 0) {\n",
    "        return 1;  \n",
    "    }\n",
    "    if (target < 0 || currentNum > target) {\n",
    "        return 0; \n",
    "    }\n",
    "    if (memo[target].count(currentNum) > 0) {\n",
    "        return memo[target][currentNum];  // \n",
    "    }\n",
    "    \n",
    "    \n",
    "    int includeCurrent = powerSumHelper(target - pow(currentNum, power), currentNum + 1, power);\n",
    "    int skipCurrent = powerSumHelper(target, currentNum + 1, power);\n",
    "    \n",
    "\n",
    "    memo[target][currentNum] = includeCurrent + skipCurrent;\n",
    "    \n",
    "    return memo[target][currentNum];\n",
    "}\n",
    "\n",
    "int powerSum(int X, int N) {\n",
    "    return powerSumHelper(X, 1, N);\n",
    "}\n",
    "int main()\n",
    "{\n",
    "    ofstream fout(getenv(\"OUTPUT_PATH\"));\n",
    "\n",
    "    string X_temp;\n",
    "    getline(cin, X_temp);\n",
    "\n",
    "    int X = stoi(ltrim(rtrim(X_temp)));\n",
    "\n",
    "    string N_temp;\n",
    "    getline(cin, N_temp);\n",
    "\n",
    "    int N = stoi(ltrim(rtrim(N_temp)));\n",
    "\n",
    "    int result = powerSum(X, N);\n",
    "\n",
    "    fout << result << \"\\n\";\n",
    "\n",
    "    fout.close();\n",
    "\n",
    "    return 0;\n",
    "}\n",
    "\n",
    "string ltrim(const string &str) {\n",
    "    string s(str);\n",
    "\n",
    "    s.erase(\n",
    "        s.begin(),\n",
    "        find_if(s.begin(), s.end(), not1(ptr_fun<int, int>(isspace)))\n",
    "    );\n",
    "\n",
    "    return s;\n",
    "}\n",
    "\n",
    "string rtrim(const string &str) {\n",
    "    string s(str);\n",
    "\n",
    "    s.erase(\n",
    "        find_if(s.rbegin(), s.rend(), not1(ptr_fun<int, int>(isspace))).base(),\n",
    "        s.end()\n",
    "    );\n",
    "\n",
    "    return s;\n",
    "}\n",
    "\n",
    "\n",
    "\"\"\""
   ]
  },
  {
   "attachments": {},
   "cell_type": "markdown",
   "id": "0e89dd86",
   "metadata": {},
   "source": [
    "### Q2 Recursive Digit Sum"
   ]
  },
  {
   "cell_type": "code",
   "execution_count": null,
   "id": "92083795",
   "metadata": {},
   "outputs": [],
   "source": [
    "a=list(map(str,input().split()))\n",
    "\n",
    "def super_digit(n):\n",
    "    sum=0\n",
    "    if len(n)==1:\n",
    "        return n\n",
    "        #return n\n",
    "    else:\n",
    "        a=len(n)\n",
    "        for i in range(a):\n",
    "            sum=sum+int(n[i])\n",
    "        return super_digit(str(sum))\n",
    "            \n",
    "        \n",
    "    \n",
    "    \n",
    "sum=0\n",
    "a1=len(a[0])\n",
    "for i in range(a1):\n",
    "    sum=sum+int(a[0][i])\n",
    "n=sum*int(a[1])\n",
    "\n",
    "c=super_digit(str(n))\n",
    "print(c)"
   ]
  },
  {
   "attachments": {},
   "cell_type": "markdown",
   "id": "30151416",
   "metadata": {},
   "source": [
    "### Q3 Password Cracker"
   ]
  },
  {
   "cell_type": "code",
   "execution_count": null,
   "id": "01e9b2c8",
   "metadata": {},
   "outputs": [],
   "source": [
    "import math\n",
    "import os\n",
    "import random\n",
    "import re\n",
    "import sys\n",
    "sys.setrecursionlimit(200000)\n",
    "\n",
    "#\n",
    "# Complete the 'passwordCracker' function below.\n",
    "#\n",
    "# The function is expected to return a STRING.\n",
    "# The function accepts following parameters:\n",
    "#  1. STRING_ARRAY passwords\n",
    "#  2. STRING loginAttempt\n",
    "#\n",
    "memo = {}\n",
    "\n",
    "\n",
    "def process_step(passwords, loginAttempt):\n",
    "    global memo\n",
    "\n",
    "    if len(loginAttempt) == 0:\n",
    "        return True, []\n",
    "    if loginAttempt in memo:\n",
    "        return False, []\n",
    "\n",
    "    for password in passwords:\n",
    "        if loginAttempt.startswith(password):\n",
    "            memo[loginAttempt] = True\n",
    "            sol, result = process_step(passwords, loginAttempt[len(password) :])\n",
    "            if sol:\n",
    "                return True, [password] + result\n",
    "    return False, []\n",
    "\n",
    "\n",
    "def passwordCracker(passwords, loginAttempt):\n",
    "    global memo\n",
    "    memo = {}\n",
    "    sol, result = process_step(passwords, loginAttempt)\n",
    "    if sol:\n",
    "        return \" \".join(result)\n",
    "    else:\n",
    "        return \"WRONG PASSWORD\"\n",
    "\n",
    "if __name__ == '__main__':\n",
    "    fptr = open(os.environ['OUTPUT_PATH'], 'w')\n",
    "\n",
    "    t = int(input().strip())\n",
    "\n",
    "    for t_itr in range(t):\n",
    "        n = int(input().strip())\n",
    "\n",
    "        passwords = input().rstrip().split()\n",
    "\n",
    "        loginAttempt = input()\n",
    "\n",
    "        result = passwordCracker(passwords, loginAttempt)\n",
    "\n",
    "        fptr.write(result + '\\n')\n",
    "\n",
    "    fptr.close()"
   ]
  },
  {
   "attachments": {},
   "cell_type": "markdown",
   "id": "14d178cc",
   "metadata": {},
   "source": [
    "### Q4 Arithmetic Expressions"
   ]
  },
  {
   "cell_type": "code",
   "execution_count": null,
   "id": "748eedab",
   "metadata": {},
   "outputs": [],
   "source": [
    "n=int(input())\n",
    "elems=[int(x) for x in input().split(' ')]\n",
    "ops=[None]*101\n",
    "ops[elems[0]]=''\n",
    "for e in elems[1:]:\n",
    "    nops=[None]*101\n",
    "    for (k,s) in enumerate(ops):\n",
    "        if s==None:\n",
    "            continue\n",
    "        nops[(k+e)%101]= s + '+'\n",
    "        nops[(k-e)%101]= s + '-'\n",
    "        nops[(k*e)%101]= s + '*'\n",
    "    ops=nops\n",
    "r=str(elems[0])\n",
    "for (k,s) in enumerate(ops[0]):\n",
    "    r+=s+str(elems[k+1])\n",
    "print(r)"
   ]
  },
  {
   "attachments": {},
   "cell_type": "markdown",
   "id": "14c3e97f",
   "metadata": {},
   "source": [
    "### Q5 Compare two linked lists"
   ]
  },
  {
   "cell_type": "code",
   "execution_count": null,
   "id": "9b069cad",
   "metadata": {},
   "outputs": [],
   "source": [
    "def compare_lists(llist1, llist2):\n",
    "    while llist1 and llist2:\n",
    "        if llist1.data == llist2.data:\n",
    "            llist1 = llist1.next\n",
    "            llist2 = llist2.next\n",
    "        else:\n",
    "            return 0\n",
    "    \n",
    "    if not (llist1 or llist2):\n",
    "        return 1\n",
    "    else:\n",
    "        return 0"
   ]
  },
  {
   "attachments": {},
   "cell_type": "markdown",
   "id": "407e22c1",
   "metadata": {},
   "source": [
    "### Q6 Find Merge Point of Two Lists"
   ]
  },
  {
   "cell_type": "code",
   "execution_count": null,
   "id": "421d851c",
   "metadata": {},
   "outputs": [],
   "source": [
    "def findMergeNode(head1, head2):\n",
    "    s=set()\n",
    "    while head1:\n",
    "        s.add(head1)\n",
    "        head1 = head1.next\n",
    "    while head2:\n",
    "        if head2 in s:\n",
    "            return head2.data\n",
    "        head2 = head2.next\n",
    "    return None"
   ]
  },
  {
   "attachments": {},
   "cell_type": "markdown",
   "id": "0d1e1a7e",
   "metadata": {},
   "source": [
    "### Q7 Cycle Detection"
   ]
  },
  {
   "cell_type": "code",
   "execution_count": null,
   "id": "804f49f4",
   "metadata": {},
   "outputs": [],
   "source": [
    "def has_cycle(head):\n",
    "    slow = head\n",
    "    fast = head\n",
    "    while slow and fast and fast.next:\n",
    "        slow = slow.next\n",
    "        fast = fast.next.next\n",
    "        if slow == fast:\n",
    "            return 1\n",
    "    return 0"
   ]
  },
  {
   "attachments": {},
   "cell_type": "markdown",
   "id": "6af283c4",
   "metadata": {},
   "source": [
    "### Q8 Delete duplicate-value nodes from a sorted linked list"
   ]
  },
  {
   "cell_type": "code",
   "execution_count": null,
   "id": "025638c0",
   "metadata": {},
   "outputs": [],
   "source": [
    "def removeDuplicates(llist):\n",
    "    # Write your code here\n",
    "    temp = llist\n",
    "    while temp.next:\n",
    "        if temp.data == temp.next.data:\n",
    "            n = temp.next.next\n",
    "            temp.next = n\n",
    "        else:\n",
    "            temp = temp.next\n",
    "    return llist"
   ]
  },
  {
   "attachments": {},
   "cell_type": "markdown",
   "id": "719ceba8",
   "metadata": {},
   "source": [
    "### Q9 Find Merge Point of Two Lists"
   ]
  },
  {
   "cell_type": "code",
   "execution_count": null,
   "id": "c85b0c01",
   "metadata": {},
   "outputs": [],
   "source": [
    "def findMergeNode(head1, head2):\n",
    "    s=set()\n",
    "    while head1:\n",
    "        s.add(head1)\n",
    "        head1 = head1.next\n",
    "    while head2:\n",
    "        if head2 in s:\n",
    "            return head2.data\n",
    "        head2 = head2.next\n",
    "    return None"
   ]
  },
  {
   "attachments": {},
   "cell_type": "markdown",
   "id": "f64107aa",
   "metadata": {},
   "source": [
    "### Q10 Reverse a linked list"
   ]
  },
  {
   "cell_type": "code",
   "execution_count": null,
   "id": "7536ac15",
   "metadata": {},
   "outputs": [],
   "source": [
    "def reverse(head):\n",
    "    # Write your code here\n",
    "    prev = None\n",
    "    current = head\n",
    "    while(current is not None):\n",
    "        next = current.next\n",
    "        current.next = prev\n",
    "        prev = current\n",
    "        current = next\n",
    "    return prev"
   ]
  }
 ],
 "metadata": {
  "kernelspec": {
   "display_name": "Python 3 (ipykernel)",
   "language": "python",
   "name": "python3"
  },
  "language_info": {
   "codemirror_mode": {
    "name": "ipython",
    "version": 3
   },
   "file_extension": ".py",
   "mimetype": "text/x-python",
   "name": "python",
   "nbconvert_exporter": "python",
   "pygments_lexer": "ipython3",
   "version": "3.9.6"
  }
 },
 "nbformat": 4,
 "nbformat_minor": 5
}
