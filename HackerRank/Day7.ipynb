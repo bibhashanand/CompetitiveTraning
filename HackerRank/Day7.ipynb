{
 "cells": [
  {
   "attachments": {},
   "cell_type": "markdown",
   "id": "b88c7765",
   "metadata": {},
   "source": [
    "# DAY 7 - LINKED LIST"
   ]
  },
  {
   "attachments": {},
   "cell_type": "markdown",
   "id": "6af283c4",
   "metadata": {},
   "source": [
    "### Q8 Delete duplicate-value nodes from a sorted linked list"
   ]
  },
  {
   "cell_type": "code",
   "execution_count": null,
   "id": "025638c0",
   "metadata": {},
   "outputs": [],
   "source": [
    "def removeDuplicates(llist):\n",
    "    # Write your code here\n",
    "    temp = llist\n",
    "    while temp.next:\n",
    "        if temp.data == temp.next.data:\n",
    "            n = temp.next.next\n",
    "            temp.next = n\n",
    "        else:\n",
    "            temp = temp.next\n",
    "    return llist"
   ]
  },
  {
   "attachments": {},
   "cell_type": "markdown",
   "id": "f64107aa",
   "metadata": {},
   "source": [
    "### Q10 Reverse a linked list"
   ]
  },
  {
   "cell_type": "code",
   "execution_count": null,
   "id": "7536ac15",
   "metadata": {},
   "outputs": [],
   "source": [
    "def reverse(head):\n",
    "    # Write your code here\n",
    "    prev = None\n",
    "    current = head\n",
    "    while(current is not None):\n",
    "        next = current.next\n",
    "        current.next = prev\n",
    "        prev = current\n",
    "        current = next\n",
    "    return prev"
   ]
  }
 ],
 "metadata": {
  "kernelspec": {
   "display_name": "Python 3 (ipykernel)",
   "language": "python",
   "name": "python3"
  },
  "language_info": {
   "codemirror_mode": {
    "name": "ipython",
    "version": 3
   },
   "file_extension": ".py",
   "mimetype": "text/x-python",
   "name": "python",
   "nbconvert_exporter": "python",
   "pygments_lexer": "ipython3",
   "version": "3.9.6"
  }
 },
 "nbformat": 4,
 "nbformat_minor": 5
}
