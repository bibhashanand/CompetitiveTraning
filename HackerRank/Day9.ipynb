{
 "cells": [
  {
   "attachments": {},
   "cell_type": "markdown",
   "metadata": {},
   "source": [
    "# DAY 9 - TREES"
   ]
  },
  {
   "attachments": {},
   "cell_type": "markdown",
   "metadata": {},
   "source": [
    "## Rough"
   ]
  },
  {
   "attachments": {},
   "cell_type": "markdown",
   "metadata": {},
   "source": [
    "### Class for Tree"
   ]
  },
  {
   "cell_type": "code",
   "execution_count": 80,
   "metadata": {},
   "outputs": [],
   "source": [
    "#Class Defination for Node\n",
    "class Node:\n",
    "    def __init__(self, val):\n",
    "        self.val=val\n",
    "        self.left=None\n",
    "        self.right=None"
   ]
  },
  {
   "cell_type": "code",
   "execution_count": 81,
   "metadata": {},
   "outputs": [],
   "source": [
    "def insert(root,key):\n",
    "    if root is None:\n",
    "        return Node(key)\n",
    "    else:\n",
    "        if root.val == key:\n",
    "            return root\n",
    "        elif root.val < key:\n",
    "            root.right = insert(root.right,key)\n",
    "        else:\n",
    "            root.left = insert(root.left,key)\n",
    "    return root"
   ]
  },
  {
   "cell_type": "code",
   "execution_count": 82,
   "metadata": {},
   "outputs": [],
   "source": [
    "# Function to find sum of Left leaves node\n",
    "def leftLeavesSumRec(root,isLeft,summ):\n",
    "    if root is None:\n",
    "        return\n",
    "    if root.left is None and root.right is None and isLeft == True:\n",
    "        summ[0] += root.val\n",
    "    leftLeavesSumRec(root.left, 1, summ)\n",
    "    leftLeavesSumRec(root.right, 0, summ)\n",
    "def leftLeavesSum(root):\n",
    "    summ = [0]\n",
    "    leftLeavesSumRec(root, 0, summ)\n",
    "    return summ [0]"
   ]
  },
  {
   "cell_type": "code",
   "execution_count": 83,
   "metadata": {},
   "outputs": [],
   "source": [
    "# Function to find sum of Right leaves node\n",
    "def rightLeavesSumRec(root,isRight,summ):\n",
    "    if root is None:\n",
    "        return\n",
    "    if root.left is None and root.right is None and isRight == True:\n",
    "        summ[0] += root.val\n",
    "    rightLeavesSumRec(root.right, 1, summ)\n",
    "    rightLeavesSumRec(root.left, 0, summ)\n",
    "def rightLeavesSum(root):\n",
    "    summ = [0]\n",
    "    rightLeavesSumRec(root, 0, summ)\n",
    "    return summ [0]"
   ]
  },
  {
   "cell_type": "code",
   "execution_count": 84,
   "metadata": {},
   "outputs": [
    {
     "name": "stdout",
     "output_type": "stream",
     "text": [
      "Sum of left leaves is 78\n",
      "Sum of right leaves is 12\n"
     ]
    }
   ],
   "source": [
    "# Calling of both functions\n",
    "bt = Node(20)\n",
    "bt.left = Node(9)\n",
    "bt.right = Node(49)\n",
    "bt.right.left = Node(23)       \n",
    "bt.right.right = Node(52)\n",
    "bt.right.right.left = Node(50)\n",
    "bt.left.left = Node(5)\n",
    "bt.left.right = Node(12)\n",
    "bt.left.right.right = Node(12)\n",
    "\n",
    "print (\"Sum of left leaves is\", leftLeavesSum(bt))\n",
    "print (\"Sum of right leaves is\", rightLeavesSum(bt))"
   ]
  },
  {
   "cell_type": "code",
   "execution_count": 55,
   "metadata": {},
   "outputs": [
    {
     "name": "stdout",
     "output_type": "stream",
     "text": [
      "Sum of left leaves is 1\n",
      "Sum of right leaves is 36\n"
     ]
    }
   ],
   "source": [
    "#Calling by using another test case\n",
    "bt = Node(12)\n",
    "bt.left = Node(1)\n",
    "bt.right = Node(8)     \n",
    "bt.right.right = Node(36)\n",
    "\n",
    "print (\"Sum of left leaves is\", leftLeavesSum(bt))\n",
    "print (\"Sum of right leaves is\", rightLeavesSum(bt))"
   ]
  },
  {
   "cell_type": "code",
   "execution_count": 67,
   "metadata": {},
   "outputs": [],
   "source": [
    "#Kth Smallest element of Tree\n",
    "\n",
    "def kthSmallest(root,k):\n",
    "    if (root == None):\n",
    "        return None\n",
    "    left = kthSmallest(root.left, k)\n",
    "    if (left != None):\n",
    "        return left\n",
    "    k -= 1\n",
    "    if (k == 0):\n",
    "        return root\n",
    "    return kthSmallest(root.right, k)"
   ]
  },
  {
   "cell_type": "code",
   "execution_count": 77,
   "metadata": {},
   "outputs": [
    {
     "name": "stdout",
     "output_type": "stream",
     "text": [
      "Kth smallest emlement is  30\n"
     ]
    }
   ],
   "source": [
    "# Calling kth function\n",
    "bt = Node(12)\n",
    "insert(bt,8)\n",
    "insert(bt,36)\n",
    "insert(bt,10)\n",
    "insert(bt,7)\n",
    "insert(bt,42)\n",
    "insert(bt,24)\n",
    "insert(bt,30)\n",
    "insert(bt,38)\n",
    "insert(bt,6)\n",
    "\n",
    "res = kthSmallest(bt,3)\n",
    "print (\"Kth smallest emlement is \", res.val)"
   ]
  },
  {
   "attachments": {},
   "cell_type": "markdown",
   "metadata": {},
   "source": [
    "# HACKER RANK QUESTIONS"
   ]
  },
  {
   "attachments": {},
   "cell_type": "markdown",
   "metadata": {},
   "source": [
    "### Q1 Binary Search Tree : Lowest Common Ancestor"
   ]
  },
  {
   "cell_type": "code",
   "execution_count": null,
   "metadata": {},
   "outputs": [],
   "source": [
    "#Q1 Binary Search Tree : Lowest Common Ancestor\n",
    "def lca(root, v1, v2):\n",
    "    if root is None or root.info == v1 or root.info == v2:\n",
    "        return root\n",
    "    if v1 < root.info and v2 < root.info:\n",
    "        return lca(root.left, v1, v2)\n",
    "    if v1 > root.info and v2 > root.info:\n",
    "        return lca(root.right, v1, v2)\n",
    "    return root"
   ]
  },
  {
   "attachments": {},
   "cell_type": "markdown",
   "metadata": {},
   "source": [
    "### Q2 Is This a Binary Search Tree?"
   ]
  },
  {
   "cell_type": "code",
   "execution_count": 87,
   "metadata": {},
   "outputs": [],
   "source": [
    "#Q2 Is This a Binary Search Tree?\n",
    "def isBSTutil(node, min_val, max_val):\n",
    "    if node is None:\n",
    "        return True\n",
    "    \n",
    "    if node.data <= min_val or node.data >= max_val:\n",
    "        return False\n",
    "    \n",
    "    return (isBSTutil(node.left, min_val, node.data) and\n",
    "            isBSTutil(node.right, node.data, max_val))\n",
    "\n",
    "def check_binary_search_tree_(root):\n",
    "    return isBSTutil(root, float('-inf'), float('inf'))\n"
   ]
  },
  {
   "attachments": {},
   "cell_type": "markdown",
   "metadata": {},
   "source": [
    "### Q3 SUM OF LEFT LEAVES"
   ]
  },
  {
   "cell_type": "code",
   "execution_count": 86,
   "metadata": {},
   "outputs": [
    {
     "name": "stdout",
     "output_type": "stream",
     "text": [
      "22\n"
     ]
    }
   ],
   "source": [
    "#Q3 SUM OF LEFT LEAVES\n",
    "\n",
    "#Class Defination for Node\n",
    "class Node:\n",
    "    def __init__(self, val):\n",
    "        self.val=val\n",
    "        self.left=None\n",
    "        self.right=None\n",
    "\n",
    "#Insertion function\n",
    "def insert(root,key):\n",
    "    if root is None:\n",
    "        return Node(key)\n",
    "    else:\n",
    "        if root.val == key:\n",
    "            return root\n",
    "        elif root.val < key:\n",
    "            root.right = insert(root.right,key)\n",
    "        else:\n",
    "            root.left = insert(root.left,key)\n",
    "    return root\n",
    "\n",
    "# Function to find sum of Left leaves node\n",
    "def leftLeavesSumRec(root,isLeft,summ):\n",
    "    if root is None:\n",
    "        return\n",
    "    if root.left is None and root.right is None and isLeft == True:\n",
    "        summ[0] += root.val\n",
    "    leftLeavesSumRec(root.left, 1, summ)\n",
    "    leftLeavesSumRec(root.right, 0, summ)\n",
    "def leftLeavesSum(root):\n",
    "    summ = [0]\n",
    "    leftLeavesSumRec(root, 0, summ)\n",
    "    return summ [0]\n",
    "\n",
    "n = int(input())\n",
    "lst = list(map(int,input().split()))\n",
    "\n",
    "bt = Node(lst[0])\n",
    "for i in range(1,n):\n",
    "    insert(bt,lst[i])\n",
    "\n",
    "print(leftLeavesSum(bt))"
   ]
  },
  {
   "attachments": {},
   "cell_type": "markdown",
   "metadata": {},
   "source": [
    "### Q4 SUM OF RIGHT LEAVES ( erorr in test case 4)"
   ]
  },
  {
   "cell_type": "code",
   "execution_count": null,
   "metadata": {},
   "outputs": [],
   "source": [
    "#Q4 SUM OF RIGHT LEAVES\n",
    "\n",
    "#Class Defination for Node\n",
    "class Node:\n",
    "    def __init__(self, val):\n",
    "        self.val=val\n",
    "        self.left=None\n",
    "        self.right=None\n",
    "\n",
    "#Insertion function\n",
    "def insert(root,key):\n",
    "    if root is None:\n",
    "        return Node(key)\n",
    "    else:\n",
    "        if root.val == key:\n",
    "            return root\n",
    "        elif root.val < key:\n",
    "            root.right = insert(root.right,key)\n",
    "        else:\n",
    "            root.left = insert(root.left,key)\n",
    "    return root\n",
    "\n",
    "# Function to find sum of Left leaves node\n",
    "def rightLeavesSumRec(root,isRight,summ):\n",
    "    if root is None:\n",
    "        return\n",
    "    if root.left is None and root.right is None and isRight == True:\n",
    "        summ[0] += root.val\n",
    "    rightLeavesSumRec(root.right, 1, summ)\n",
    "    rightLeavesSumRec(root.left, 0, summ)\n",
    "def rightLeavesSum(root):\n",
    "    summ = [0]\n",
    "    rightLeavesSumRec(root, 0, summ)\n",
    "    return summ [0]\n",
    "\n",
    "n = int(input())\n",
    "lst = list(map(int,input().split()))\n",
    "\n",
    "bt = Node(lst[0])\n",
    "for i in range(1,n):\n",
    "    insert(bt,lst[i])\n",
    "\n",
    "print(rightLeavesSum(bt))"
   ]
  },
  {
   "attachments": {},
   "cell_type": "markdown",
   "metadata": {},
   "source": [
    "### Q4 SUM OF RIGHT LEAVES IN C++"
   ]
  },
  {
   "cell_type": "code",
   "execution_count": null,
   "metadata": {},
   "outputs": [],
   "source": [
    "\"\"\" \n",
    "#include <iostream>\n",
    "#include <sstream>\n",
    "#include <vector>\n",
    "\n",
    "using namespace std;\n",
    "\n",
    "// Binary Tree Node\n",
    "struct Node {\n",
    "    int value;\n",
    "    Node* left;\n",
    "    Node* right;\n",
    "};\n",
    "\n",
    "// Function to create a new node\n",
    "Node* createNode(int value) {\n",
    "    Node* newNode = new Node();\n",
    "    if (newNode) {\n",
    "        newNode->value = value;\n",
    "        newNode->left = newNode->right = nullptr;\n",
    "    }\n",
    "    return newNode;\n",
    "}\n",
    "\n",
    "// Function to insert a node into the binary search tree\n",
    "Node* insertNode(Node* root, int value) {\n",
    "    // If the tree is empty, assign a new node address to the root\n",
    "    if (root == nullptr) {\n",
    "        root = createNode(value);\n",
    "        return root;\n",
    "    }\n",
    "\n",
    "    // Insert the node in the appropriate position based on the value\n",
    "    if (value < root->value) {\n",
    "        root->left = insertNode(root->left, value);\n",
    "    } else if (value > root->value) {\n",
    "        root->right = insertNode(root->right, value);\n",
    "    }\n",
    "\n",
    "    return root;\n",
    "}\n",
    "\n",
    "// Function to calculate the sum of all right leaves in the binary search tree\n",
    "int sumOfRightLeaves(Node* root) {\n",
    "    if (root == nullptr)\n",
    "        return 0;\n",
    "\n",
    "    int sum = 0;\n",
    "\n",
    "    // Check if the right child of the current node is a leaf node\n",
    "    if (root->right != nullptr && root->right->left == nullptr && root->right->right == nullptr)\n",
    "        sum += root->right->value;\n",
    "\n",
    "    // Recursively calculate the sum of right leaves in the left and right subtrees\n",
    "    sum += sumOfRightLeaves(root->left) + sumOfRightLeaves(root->right);\n",
    "\n",
    "    return sum;\n",
    "}\n",
    "\n",
    "int main() {\n",
    "    int n;\n",
    "    cin >> n;\n",
    "\n",
    "    Node* root = nullptr;\n",
    "\n",
    "    string line;\n",
    "    getline(cin >> ws, line);\n",
    "    istringstream iss(line);\n",
    "\n",
    "    int value;\n",
    "    while (iss >> value) {\n",
    "        root = insertNode(root, value);\n",
    "    }\n",
    "\n",
    "    int sum = sumOfRightLeaves(root);\n",
    "    cout << sum << endl;\n",
    "\n",
    "    return 0;\n",
    "}\n",
    "\n",
    "\"\"\""
   ]
  }
 ],
 "metadata": {
  "kernelspec": {
   "display_name": "Python 3",
   "language": "python",
   "name": "python3"
  },
  "language_info": {
   "codemirror_mode": {
    "name": "ipython",
    "version": 3
   },
   "file_extension": ".py",
   "mimetype": "text/x-python",
   "name": "python",
   "nbconvert_exporter": "python",
   "pygments_lexer": "ipython3",
   "version": "3.9.6"
  },
  "orig_nbformat": 4
 },
 "nbformat": 4,
 "nbformat_minor": 2
}
