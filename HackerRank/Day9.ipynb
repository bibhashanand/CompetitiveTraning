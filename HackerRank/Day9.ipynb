{
 "cells": [
  {
   "attachments": {},
   "cell_type": "markdown",
   "metadata": {},
   "source": [
    "# DAY 9 - TREES"
   ]
  },
  {
   "attachments": {},
   "cell_type": "markdown",
   "metadata": {},
   "source": [
    "## Rough"
   ]
  },
  {
   "attachments": {},
   "cell_type": "markdown",
   "metadata": {},
   "source": [
    "### Class for Tree"
   ]
  },
  {
   "cell_type": "code",
   "execution_count": 49,
   "metadata": {},
   "outputs": [],
   "source": [
    "#Class Defination for Node\n",
    "class Node:\n",
    "    def __init__(self, val):\n",
    "        self.val=val\n",
    "        self.left=None\n",
    "        self.right=None"
   ]
  },
  {
   "cell_type": "code",
   "execution_count": 50,
   "metadata": {},
   "outputs": [],
   "source": [
    "# Function to find sum of Left leaves node\n",
    "def leftLeavesSumRec(root,isLeft,summ):\n",
    "    if root is None:\n",
    "        return\n",
    "    if root.left is None and root.right is None and isLeft == True:\n",
    "        summ[0] += root.val\n",
    "    leftLeavesSumRec(root.left, 1, summ)\n",
    "    leftLeavesSumRec(root.right, 0, summ)\n",
    "def leftLeavesSum(root):\n",
    "    summ = [0]\n",
    "    leftLeavesSumRec(root, 0, summ)\n",
    "    return summ [0]"
   ]
  },
  {
   "cell_type": "code",
   "execution_count": 51,
   "metadata": {},
   "outputs": [],
   "source": [
    "# Function to find sum of Right leaves node\n",
    "def rightLeavesSumRec(root,isRight,summ):\n",
    "    if root is None:\n",
    "        return\n",
    "    if root.left is None and root.right is None and isRight == True:\n",
    "        summ[0] += root.val\n",
    "    rightLeavesSumRec(root.right, 1, summ)\n",
    "    rightLeavesSumRec(root.left, 0, summ)\n",
    "def rightLeavesSum(root):\n",
    "    summ = [0]\n",
    "    rightLeavesSumRec(root, 0, summ)\n",
    "    return summ [0]"
   ]
  },
  {
   "cell_type": "code",
   "execution_count": 53,
   "metadata": {},
   "outputs": [
    {
     "name": "stdout",
     "output_type": "stream",
     "text": [
      "Sum of left leaves is 78\n",
      "Sum of right leaves is 12\n"
     ]
    }
   ],
   "source": [
    "# Calling of both functions\n",
    "bt = Node(20)\n",
    "bt.left = Node(9)\n",
    "bt.right = Node(49)\n",
    "bt.right.left = Node(23)       \n",
    "bt.right.right = Node(52)\n",
    "bt.right.right.left = Node(50)\n",
    "bt.left.left = Node(5)\n",
    "bt.left.right = Node(12)\n",
    "bt.left.right.right = Node(12)\n",
    "\n",
    "print (\"Sum of left leaves is\", leftLeavesSum(bt))\n",
    "print (\"Sum of right leaves is\", rightLeavesSum(bt))"
   ]
  },
  {
   "cell_type": "code",
   "execution_count": 55,
   "metadata": {},
   "outputs": [
    {
     "name": "stdout",
     "output_type": "stream",
     "text": [
      "Sum of left leaves is 1\n",
      "Sum of right leaves is 36\n"
     ]
    }
   ],
   "source": [
    "#Calling by using another test case\n",
    "bt = Node(12)\n",
    "bt.left = Node(1)\n",
    "bt.right = Node(8)     \n",
    "bt.right.right = Node(36)\n",
    "\n",
    "print (\"Sum of left leaves is\", leftLeavesSum(bt))\n",
    "print (\"Sum of right leaves is\", rightLeavesSum(bt))"
   ]
  },
  {
   "cell_type": "code",
   "execution_count": 67,
   "metadata": {},
   "outputs": [],
   "source": [
    "#Kth Smallest element of Tree\n",
    "\n",
    "def kthSmallest(root,k):\n",
    "    if (root == None):\n",
    "        return None\n",
    "    left = kthSmallest(root.left, k)\n",
    "    if (left != None):\n",
    "        return left\n",
    "    k -= 1\n",
    "    if (k == 0):\n",
    "        return root\n",
    "    return kthSmallest(root.right, k)"
   ]
  },
  {
   "cell_type": "code",
   "execution_count": 68,
   "metadata": {},
   "outputs": [
    {
     "name": "stdout",
     "output_type": "stream",
     "text": [
      "Kth smallest emlement is  12\n"
     ]
    }
   ],
   "source": [
    "# Calling kth function\n",
    "bt = Node(20)\n",
    "bt.left = Node(9)\n",
    "bt.right = Node(49)\n",
    "bt.right.left = Node(23)       \n",
    "bt.right.right = Node(52)\n",
    "bt.right.right.left = Node(50)\n",
    "bt.left.left = Node(5)\n",
    "bt.left.right = Node(12)\n",
    "bt.left.right.right = Node(12)\n",
    "\n",
    "res = kthSmallest(bt,3)\n",
    "print (\"Kth smallest emlement is \", res.val)"
   ]
  }
 ],
 "metadata": {
  "kernelspec": {
   "display_name": "Python 3",
   "language": "python",
   "name": "python3"
  },
  "language_info": {
   "codemirror_mode": {
    "name": "ipython",
    "version": 3
   },
   "file_extension": ".py",
   "mimetype": "text/x-python",
   "name": "python",
   "nbconvert_exporter": "python",
   "pygments_lexer": "ipython3",
   "version": "3.9.6"
  },
  "orig_nbformat": 4
 },
 "nbformat": 4,
 "nbformat_minor": 2
}
