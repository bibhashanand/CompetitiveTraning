{
 "cells": [
  {
   "attachments": {},
   "cell_type": "markdown",
   "metadata": {},
   "source": [
    "# DAY 9 - TREES"
   ]
  },
  {
   "attachments": {},
   "cell_type": "markdown",
   "metadata": {},
   "source": [
    "## Rough"
   ]
  },
  {
   "attachments": {},
   "cell_type": "markdown",
   "metadata": {},
   "source": [
    "### Class for Tree"
   ]
  },
  {
   "cell_type": "code",
   "execution_count": 80,
   "metadata": {},
   "outputs": [],
   "source": [
    "#Class Defination for Node\n",
    "class Node:\n",
    "    def __init__(self, val):\n",
    "        self.val=val\n",
    "        self.left=None\n",
    "        self.right=None"
   ]
  },
  {
   "cell_type": "code",
   "execution_count": 81,
   "metadata": {},
   "outputs": [],
   "source": [
    "def insert(root,key):\n",
    "    if root is None:\n",
    "        return Node(key)\n",
    "    else:\n",
    "        if root.val == key:\n",
    "            return root\n",
    "        elif root.val < key:\n",
    "            root.right = insert(root.right,key)\n",
    "        else:\n",
    "            root.left = insert(root.left,key)\n",
    "    return root"
   ]
  },
  {
   "cell_type": "code",
   "execution_count": 82,
   "metadata": {},
   "outputs": [],
   "source": [
    "# Function to find sum of Left leaves node\n",
    "def leftLeavesSumRec(root,isLeft,summ):\n",
    "    if root is None:\n",
    "        return\n",
    "    if root.left is None and root.right is None and isLeft == True:\n",
    "        summ[0] += root.val\n",
    "    leftLeavesSumRec(root.left, 1, summ)\n",
    "    leftLeavesSumRec(root.right, 0, summ)\n",
    "def leftLeavesSum(root):\n",
    "    summ = [0]\n",
    "    leftLeavesSumRec(root, 0, summ)\n",
    "    return summ [0]"
   ]
  },
  {
   "cell_type": "code",
   "execution_count": 83,
   "metadata": {},
   "outputs": [],
   "source": [
    "# Function to find sum of Right leaves node\n",
    "def rightLeavesSumRec(root,isRight,summ):\n",
    "    if root is None:\n",
    "        return\n",
    "    if root.left is None and root.right is None and isRight == True:\n",
    "        summ[0] += root.val\n",
    "    rightLeavesSumRec(root.right, 1, summ)\n",
    "    rightLeavesSumRec(root.left, 0, summ)\n",
    "def rightLeavesSum(root):\n",
    "    summ = [0]\n",
    "    rightLeavesSumRec(root, 0, summ)\n",
    "    return summ [0]"
   ]
  },
  {
   "cell_type": "code",
   "execution_count": 84,
   "metadata": {},
   "outputs": [
    {
     "name": "stdout",
     "output_type": "stream",
     "text": [
      "Sum of left leaves is 78\n",
      "Sum of right leaves is 12\n"
     ]
    }
   ],
   "source": [
    "# Calling of both functions\n",
    "bt = Node(20)\n",
    "bt.left = Node(9)\n",
    "bt.right = Node(49)\n",
    "bt.right.left = Node(23)       \n",
    "bt.right.right = Node(52)\n",
    "bt.right.right.left = Node(50)\n",
    "bt.left.left = Node(5)\n",
    "bt.left.right = Node(12)\n",
    "bt.left.right.right = Node(12)\n",
    "\n",
    "print (\"Sum of left leaves is\", leftLeavesSum(bt))\n",
    "print (\"Sum of right leaves is\", rightLeavesSum(bt))"
   ]
  },
  {
   "cell_type": "code",
   "execution_count": 55,
   "metadata": {},
   "outputs": [
    {
     "name": "stdout",
     "output_type": "stream",
     "text": [
      "Sum of left leaves is 1\n",
      "Sum of right leaves is 36\n"
     ]
    }
   ],
   "source": [
    "#Calling by using another test case\n",
    "bt = Node(12)\n",
    "bt.left = Node(1)\n",
    "bt.right = Node(8)     \n",
    "bt.right.right = Node(36)\n",
    "\n",
    "print (\"Sum of left leaves is\", leftLeavesSum(bt))\n",
    "print (\"Sum of right leaves is\", rightLeavesSum(bt))"
   ]
  },
  {
   "cell_type": "code",
   "execution_count": 67,
   "metadata": {},
   "outputs": [],
   "source": [
    "#Kth Smallest element of Tree\n",
    "\n",
    "def kthSmallest(root,k):\n",
    "    if (root == None):\n",
    "        return None\n",
    "    left = kthSmallest(root.left, k)\n",
    "    if (left != None):\n",
    "        return left\n",
    "    k -= 1\n",
    "    if (k == 0):\n",
    "        return root\n",
    "    return kthSmallest(root.right, k)"
   ]
  },
  {
   "cell_type": "code",
   "execution_count": 77,
   "metadata": {},
   "outputs": [
    {
     "name": "stdout",
     "output_type": "stream",
     "text": [
      "Kth smallest emlement is  30\n"
     ]
    }
   ],
   "source": [
    "# Calling kth function\n",
    "bt = Node(12)\n",
    "insert(bt,8)\n",
    "insert(bt,36)\n",
    "insert(bt,10)\n",
    "insert(bt,7)\n",
    "insert(bt,42)\n",
    "insert(bt,24)\n",
    "insert(bt,30)\n",
    "insert(bt,38)\n",
    "insert(bt,6)\n",
    "\n",
    "res = kthSmallest(bt,3)\n",
    "print (\"Kth smallest emlement is \", res.val)"
   ]
  },
  {
   "attachments": {},
   "cell_type": "markdown",
   "metadata": {},
   "source": [
    "# HACKER RANK QUESTIONS"
   ]
  },
  {
   "attachments": {},
   "cell_type": "markdown",
   "metadata": {},
   "source": [
    "### Q3 SUM OF LEFT LEAVES"
   ]
  },
  {
   "cell_type": "code",
   "execution_count": 86,
   "metadata": {},
   "outputs": [
    {
     "name": "stdout",
     "output_type": "stream",
     "text": [
      "22\n"
     ]
    }
   ],
   "source": [
    "#Q3 SUM OF LEFT LEAVES\n",
    "\n",
    "#Class Defination for Node\n",
    "class Node:\n",
    "    def __init__(self, val):\n",
    "        self.val=val\n",
    "        self.left=None\n",
    "        self.right=None\n",
    "\n",
    "#Insertion function\n",
    "def insert(root,key):\n",
    "    if root is None:\n",
    "        return Node(key)\n",
    "    else:\n",
    "        if root.val == key:\n",
    "            return root\n",
    "        elif root.val < key:\n",
    "            root.right = insert(root.right,key)\n",
    "        else:\n",
    "            root.left = insert(root.left,key)\n",
    "    return root\n",
    "\n",
    "# Function to find sum of Left leaves node\n",
    "def leftLeavesSumRec(root,isLeft,summ):\n",
    "    if root is None:\n",
    "        return\n",
    "    if root.left is None and root.right is None and isLeft == True:\n",
    "        summ[0] += root.val\n",
    "    leftLeavesSumRec(root.left, 1, summ)\n",
    "    leftLeavesSumRec(root.right, 0, summ)\n",
    "def leftLeavesSum(root):\n",
    "    summ = [0]\n",
    "    leftLeavesSumRec(root, 0, summ)\n",
    "    return summ [0]\n",
    "\n",
    "n = int(input())\n",
    "lst = list(map(int,input().split()))\n",
    "\n",
    "bt = Node(lst[0])\n",
    "for i in range(1,n):\n",
    "    insert(bt,lst[i])\n",
    "\n",
    "print(leftLeavesSum(bt))"
   ]
  }
 ],
 "metadata": {
  "kernelspec": {
   "display_name": "Python 3",
   "language": "python",
   "name": "python3"
  },
  "language_info": {
   "codemirror_mode": {
    "name": "ipython",
    "version": 3
   },
   "file_extension": ".py",
   "mimetype": "text/x-python",
   "name": "python",
   "nbconvert_exporter": "python",
   "pygments_lexer": "ipython3",
   "version": "3.9.6"
  },
  "orig_nbformat": 4
 },
 "nbformat": 4,
 "nbformat_minor": 2
}
