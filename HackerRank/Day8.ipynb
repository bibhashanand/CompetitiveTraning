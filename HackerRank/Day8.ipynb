{
 "cells": [
  {
   "attachments": {},
   "cell_type": "markdown",
   "metadata": {},
   "source": [
    "# DAY 8 - TREES"
   ]
  },
  {
   "attachments": {},
   "cell_type": "markdown",
   "metadata": {},
   "source": [
    "## Basic programs -->"
   ]
  },
  {
   "attachments": {},
   "cell_type": "markdown",
   "metadata": {},
   "source": [
    "### Insertion in Binary Tree"
   ]
  },
  {
   "cell_type": "code",
   "execution_count": 36,
   "metadata": {},
   "outputs": [],
   "source": [
    "#Insertion in Binary Tree\n",
    "\n",
    "class newNode():\n",
    "    def __init__(self,data):\n",
    "        self.val = data\n",
    "        self.left = None\n",
    "        self.right = None\n",
    "def insert(root,key):\n",
    "    if root is None:\n",
    "        return newNode(key)\n",
    "    else:\n",
    "        if root.val == key:\n",
    "            return root\n",
    "        elif root.val < key:\n",
    "            root.right = insert(root.right,key)\n",
    "        else:\n",
    "            root.left = insert(root.left,key)\n",
    "    return root"
   ]
  },
  {
   "attachments": {},
   "cell_type": "markdown",
   "metadata": {},
   "source": [
    "### Inorder Traversal"
   ]
  },
  {
   "cell_type": "code",
   "execution_count": 17,
   "metadata": {},
   "outputs": [],
   "source": [
    "#Display Inorder of Binary Tree\n",
    "\n",
    "def Inorder(root):\n",
    "    if root.left:\n",
    "        Inorder(root.left)\n",
    "    print(root.val, end =\" \")\n",
    "    if root.right:\n",
    "        Inorder(root.right)"
   ]
  },
  {
   "attachments": {},
   "cell_type": "markdown",
   "metadata": {},
   "source": [
    "### Preorder Traversal"
   ]
  },
  {
   "cell_type": "code",
   "execution_count": 19,
   "metadata": {},
   "outputs": [],
   "source": [
    "#Display Preorder of Binary Tree\n",
    "def Preorder(root):\n",
    "    print(root.val, end=\" \")\n",
    "    if root.left:\n",
    "        Preorder(root.left)\n",
    "    if root.right:\n",
    "        Preorder(root.right)"
   ]
  },
  {
   "attachments": {},
   "cell_type": "markdown",
   "metadata": {},
   "source": [
    "### Postorder Traversal"
   ]
  },
  {
   "cell_type": "code",
   "execution_count": 25,
   "metadata": {},
   "outputs": [],
   "source": [
    "#Display Postorder of Binary Tree\n",
    "def Postorder(root):\n",
    "    if root.left:\n",
    "        Postorder(root.left)\n",
    "    if root.right:\n",
    "        Postorder(root.right)\n",
    "    print(root.val, end=\" \")"
   ]
  },
  {
   "attachments": {},
   "cell_type": "markdown",
   "metadata": {},
   "source": [
    "### Find Height of Binary Tree"
   ]
  },
  {
   "cell_type": "code",
   "execution_count": 53,
   "metadata": {},
   "outputs": [],
   "source": [
    "# Function to find Height of BST\n",
    "def treeheight(root):\n",
    "    if not root:\n",
    "        return 0\n",
    "    else:\n",
    "        return max(1 + treeheight(root.left), 1 + treeheight(root.right))"
   ]
  },
  {
   "attachments": {},
   "cell_type": "markdown",
   "metadata": {},
   "source": [
    "### Calling the function"
   ]
  },
  {
   "cell_type": "code",
   "execution_count": 54,
   "metadata": {},
   "outputs": [
    {
     "name": "stdout",
     "output_type": "stream",
     "text": [
      "Inorder -> \n",
      "6 7 8 10 12 24 30 36 38 42 \n",
      "Preorder -> \n",
      "12 8 7 6 10 36 24 30 42 38 \n",
      "Postorder -> \n",
      "6 7 10 8 30 24 38 42 36 12 \n",
      "Tree Height ->  4\n"
     ]
    }
   ],
   "source": [
    "# Calling the Insertion function and displaying it in Inorder traversal\n",
    "\n",
    "bt = newNode(12)\n",
    "insert(bt,8)\n",
    "insert(bt,36)\n",
    "insert(bt,10)\n",
    "insert(bt,7)\n",
    "insert(bt,42)\n",
    "insert(bt,24)\n",
    "insert(bt,30)\n",
    "insert(bt,38)\n",
    "insert(bt,6)\n",
    "\n",
    "print(\"Inorder -> \")\n",
    "Inorder(bt)\n",
    "print()\n",
    "print(\"Preorder -> \")\n",
    "Preorder(bt)\n",
    "print()\n",
    "print(\"Postorder -> \")\n",
    "Postorder(bt)\n",
    "print()\n",
    "print(\"Tree Height -> \",(treeheight(bt)))"
   ]
  },
  {
   "attachments": {},
   "cell_type": "markdown",
   "metadata": {},
   "source": [
    "# HACKERRANK QUESTIONS"
   ]
  },
  {
   "attachments": {},
   "cell_type": "markdown",
   "metadata": {},
   "source": [
    "### Q1 Tree: Preorder Traversal"
   ]
  },
  {
   "cell_type": "code",
   "execution_count": null,
   "metadata": {},
   "outputs": [],
   "source": [
    "#Q1 Tree: Preorder Traversal\n",
    "def preOrder(root):\n",
    "    print(root.info, end=\" \")\n",
    "    if root.left:\n",
    "        preOrder(root.left)\n",
    "    if root.right:\n",
    "        preOrder(root.right)"
   ]
  },
  {
   "attachments": {},
   "cell_type": "markdown",
   "metadata": {},
   "source": [
    "### Q2 Tree: Postorder Traversal"
   ]
  },
  {
   "cell_type": "code",
   "execution_count": null,
   "metadata": {},
   "outputs": [],
   "source": [
    "#Q2 Tree: Postorder Traversal\n",
    "def postOrder(root):\n",
    "    if root.left:\n",
    "        postOrder(root.left)\n",
    "    if root.right:\n",
    "        postOrder(root.right)\n",
    "    print(root.info, end=\" \")"
   ]
  },
  {
   "attachments": {},
   "cell_type": "markdown",
   "metadata": {},
   "source": [
    "### Q3 Tree: Inorder Traversal"
   ]
  },
  {
   "cell_type": "code",
   "execution_count": null,
   "metadata": {},
   "outputs": [],
   "source": [
    "#Q3 Tree: Inorder Traversal\n",
    "def inOrder(root):\n",
    "    if root.left:\n",
    "        inOrder(root.left)\n",
    "    print(root.info, end =\" \")\n",
    "    if root.right:\n",
    "        inOrder(root.right)"
   ]
  },
  {
   "attachments": {},
   "cell_type": "markdown",
   "metadata": {},
   "source": [
    "### Q4 Tree: Height of a Binary Tree"
   ]
  },
  {
   "cell_type": "code",
   "execution_count": 61,
   "metadata": {},
   "outputs": [],
   "source": [
    "#Q4 Tree: Height of a Binary Tree\n",
    "def height(root):\n",
    "    if not root:\n",
    "        return -1\n",
    "    else:\n",
    "        return (max(1 + height(root.left), 1 + height(root.right)))\n",
    "    "
   ]
  },
  {
   "attachments": {},
   "cell_type": "markdown",
   "metadata": {},
   "source": [
    "### Q5 Tree: Top View"
   ]
  },
  {
   "cell_type": "code",
   "execution_count": null,
   "metadata": {},
   "outputs": [],
   "source": [
    "#Q5 Tree: Top View\n",
    "def topView(root):\n",
    "    hm = {}\n",
    "    queue = []\n",
    "    queue.append((root,0))\n",
    "    while(queue):\n",
    "        q = queue.pop(0)\n",
    "        if q[1] not in hm:\n",
    "            hm[q[1]] = q[0].info\n",
    "        if q[0].left:\n",
    "            queue.append((q[0].left,q[1]-1))\n",
    "        if q[0].right:\n",
    "            queue.append((q[0].right,q[1]+1))\n",
    "    for k, v in sorted(hm.items()):\n",
    "        print(str(v)+' ', end='')"
   ]
  },
  {
   "attachments": {},
   "cell_type": "markdown",
   "metadata": {},
   "source": [
    "### Q6 Tree: Level Order Traversal\n"
   ]
  },
  {
   "cell_type": "code",
   "execution_count": null,
   "metadata": {},
   "outputs": [],
   "source": [
    "#Q6 Tree: Level Order Traversal\n",
    "def levelOrder(root):\n",
    "  if root is None:\n",
    "    return \n",
    "  queue=[]\n",
    "  queue.append(root)\n",
    "  while (len(queue)>0):\n",
    "    print(queue[0].info,end=\" \")\n",
    "    node=queue.pop(0)\n",
    "    if node.left is not None:\n",
    "      queue.append(node.left)\n",
    "    if node.right is not None:\n",
    "      queue.append(node.right)"
   ]
  },
  {
   "attachments": {},
   "cell_type": "markdown",
   "metadata": {},
   "source": [
    "### Q7 Binary Search Tree : Insertion"
   ]
  },
  {
   "cell_type": "code",
   "execution_count": null,
   "metadata": {},
   "outputs": [],
   "source": [
    "#Q7 Binary Search Tree: Insertion\n",
    "def insert(self, val):  \n",
    "    if self.root == None:\n",
    "        self.root = Node(val)\n",
    "    else:\n",
    "        current = self.root\n",
    "        \n",
    "        while True:\n",
    "            if val < current.info:\n",
    "                if current.left:\n",
    "                    current = current.left\n",
    "                else:\n",
    "                    current.left = Node(val)\n",
    "                    break\n",
    "            elif val > current.info:\n",
    "                if current.right:\n",
    "                    current = current.right\n",
    "                else:\n",
    "                    current.right = Node(val)\n",
    "                    break\n",
    "            else:\n",
    "                break"
   ]
  }
 ],
 "metadata": {
  "kernelspec": {
   "display_name": "Python 3",
   "language": "python",
   "name": "python3"
  },
  "language_info": {
   "codemirror_mode": {
    "name": "ipython",
    "version": 3
   },
   "file_extension": ".py",
   "mimetype": "text/x-python",
   "name": "python",
   "nbconvert_exporter": "python",
   "pygments_lexer": "ipython3",
   "version": "3.9.6"
  },
  "orig_nbformat": 4
 },
 "nbformat": 4,
 "nbformat_minor": 2
}
