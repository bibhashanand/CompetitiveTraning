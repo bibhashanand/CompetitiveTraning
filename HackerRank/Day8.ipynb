{
 "cells": [
  {
   "attachments": {},
   "cell_type": "markdown",
   "metadata": {},
   "source": [
    "# DAY 8 - TREES"
   ]
  },
  {
   "attachments": {},
   "cell_type": "markdown",
   "metadata": {},
   "source": [
    "### Insertion in Binary Tree"
   ]
  },
  {
   "cell_type": "code",
   "execution_count": 15,
   "metadata": {},
   "outputs": [],
   "source": [
    "#Insertion in Binary Tree\n",
    "\n",
    "class newNode():\n",
    "    def __init__(self,data):\n",
    "        self.val = data\n",
    "        self.left = None\n",
    "        self.right = None\n",
    "def insert(root,key):\n",
    "    if root is None:\n",
    "        return newNode(key)\n",
    "    else:\n",
    "        if root.val == key:\n",
    "            return root\n",
    "        elif root.val < key:\n",
    "            root.right = insert(root.right,key)\n",
    "        else:\n",
    "            root.left = insert(root.left,key)\n",
    "    return root"
   ]
  },
  {
   "attachments": {},
   "cell_type": "markdown",
   "metadata": {},
   "source": [
    "### Inorder Traversal"
   ]
  },
  {
   "cell_type": "code",
   "execution_count": 17,
   "metadata": {},
   "outputs": [],
   "source": [
    "#Display Inorder of Binary Tree\n",
    "\n",
    "def Inorder(root):\n",
    "    if root.left:\n",
    "        Inorder(root.left)\n",
    "    print(root.val, end =\" \")\n",
    "    if root.right:\n",
    "        Inorder(root.right)"
   ]
  },
  {
   "attachments": {},
   "cell_type": "markdown",
   "metadata": {},
   "source": [
    "### Preorder Traversal"
   ]
  },
  {
   "cell_type": "code",
   "execution_count": 19,
   "metadata": {},
   "outputs": [],
   "source": [
    "#Display Preorder of Binary Tree\n",
    "def Preorder(root):\n",
    "    print(root.val, end=\" \")\n",
    "    if root.left:\n",
    "        Preorder(root.left)\n",
    "    if root.right:\n",
    "        Preorder(root.right)"
   ]
  },
  {
   "attachments": {},
   "cell_type": "markdown",
   "metadata": {},
   "source": [
    "### Postorder Traversal"
   ]
  },
  {
   "cell_type": "code",
   "execution_count": 25,
   "metadata": {},
   "outputs": [],
   "source": [
    "#Display Postorder of Binary Tree\n",
    "def Postorder(root):\n",
    "    if root.left:\n",
    "        Postorder(root.left)\n",
    "    if root.right:\n",
    "        Postorder(root.right)\n",
    "    print(root.val, end=\" \")"
   ]
  },
  {
   "attachments": {},
   "cell_type": "markdown",
   "metadata": {},
   "source": [
    "### Calling the function"
   ]
  },
  {
   "cell_type": "code",
   "execution_count": 27,
   "metadata": {},
   "outputs": [
    {
     "name": "stdout",
     "output_type": "stream",
     "text": [
      "Inorder -> \n",
      "6 7 8 10 12 24 30 36 38 42 \n",
      "Preorder -> \n",
      "12 8 7 6 10 36 24 30 42 38 \n",
      "Postorder -> \n",
      "6 7 10 8 30 24 38 42 36 12 "
     ]
    }
   ],
   "source": [
    "# Calling the Insertion function and displaying it in Inorder traversal\n",
    "\n",
    "bt = newNode(12)\n",
    "insert(bt,8)\n",
    "insert(bt,36)\n",
    "insert(bt,10)\n",
    "insert(bt,7)\n",
    "insert(bt,42)\n",
    "insert(bt,24)\n",
    "insert(bt,30)\n",
    "insert(bt,38)\n",
    "insert(bt,6)\n",
    "\n",
    "print(\"Inorder -> \")\n",
    "Inorder(bt)\n",
    "print()\n",
    "print(\"Preorder -> \")\n",
    "Preorder(bt)\n",
    "print()\n",
    "print(\"Postorder -> \")\n",
    "Postorder(bt)"
   ]
  },
  {
   "cell_type": "code",
   "execution_count": null,
   "metadata": {},
   "outputs": [],
   "source": []
  }
 ],
 "metadata": {
  "kernelspec": {
   "display_name": "Python 3",
   "language": "python",
   "name": "python3"
  },
  "language_info": {
   "codemirror_mode": {
    "name": "ipython",
    "version": 3
   },
   "file_extension": ".py",
   "mimetype": "text/x-python",
   "name": "python",
   "nbconvert_exporter": "python",
   "pygments_lexer": "ipython3",
   "version": "3.9.6"
  },
  "orig_nbformat": 4
 },
 "nbformat": 4,
 "nbformat_minor": 2
}
